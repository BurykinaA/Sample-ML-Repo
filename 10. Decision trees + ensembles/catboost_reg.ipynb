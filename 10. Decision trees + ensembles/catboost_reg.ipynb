{
  "nbformat": 4,
  "nbformat_minor": 0,
  "metadata": {
    "colab": {
      "provenance": [],
      "toc_visible": true
    },
    "kernelspec": {
      "name": "python3",
      "display_name": "Python 3"
    },
    "language_info": {
      "name": "python"
    },
    "widgets": {
      "application/vnd.jupyter.widget-state+json": {
        "78e16e4537f24033ac6ede8b9094b2de": {
          "model_module": "@jupyter-widgets/controls",
          "model_name": "HBoxModel",
          "model_module_version": "1.5.0",
          "state": {
            "_dom_classes": [],
            "_model_module": "@jupyter-widgets/controls",
            "_model_module_version": "1.5.0",
            "_model_name": "HBoxModel",
            "_view_count": null,
            "_view_module": "@jupyter-widgets/controls",
            "_view_module_version": "1.5.0",
            "_view_name": "HBoxView",
            "box_style": "",
            "children": [
              "IPY_MODEL_c2649963c9a24d91adc611156b7c2e61",
              "IPY_MODEL_61e239e007e44546b0b0a8c689f84497",
              "IPY_MODEL_6bbabb1d44844807a590599b1829952f"
            ],
            "layout": "IPY_MODEL_734ceefba8a440809660be18201e82a6"
          }
        },
        "c2649963c9a24d91adc611156b7c2e61": {
          "model_module": "@jupyter-widgets/controls",
          "model_name": "HTMLModel",
          "model_module_version": "1.5.0",
          "state": {
            "_dom_classes": [],
            "_model_module": "@jupyter-widgets/controls",
            "_model_module_version": "1.5.0",
            "_model_name": "HTMLModel",
            "_view_count": null,
            "_view_module": "@jupyter-widgets/controls",
            "_view_module_version": "1.5.0",
            "_view_name": "HTMLView",
            "description": "",
            "description_tooltip": null,
            "layout": "IPY_MODEL_c0942666bdd847f49b0800ee356322c5",
            "placeholder": "​",
            "style": "IPY_MODEL_12485c1d2ce7434e8f41346af0c6b31e",
            "value": "100%"
          }
        },
        "61e239e007e44546b0b0a8c689f84497": {
          "model_module": "@jupyter-widgets/controls",
          "model_name": "FloatProgressModel",
          "model_module_version": "1.5.0",
          "state": {
            "_dom_classes": [],
            "_model_module": "@jupyter-widgets/controls",
            "_model_module_version": "1.5.0",
            "_model_name": "FloatProgressModel",
            "_view_count": null,
            "_view_module": "@jupyter-widgets/controls",
            "_view_module_version": "1.5.0",
            "_view_name": "ProgressView",
            "bar_style": "success",
            "description": "",
            "description_tooltip": null,
            "layout": "IPY_MODEL_c991a888c0f84c95a535a2a49f640030",
            "max": 28,
            "min": 0,
            "orientation": "horizontal",
            "style": "IPY_MODEL_30d81b3b89004189a6ae9f27f808c3b6",
            "value": 28
          }
        },
        "6bbabb1d44844807a590599b1829952f": {
          "model_module": "@jupyter-widgets/controls",
          "model_name": "HTMLModel",
          "model_module_version": "1.5.0",
          "state": {
            "_dom_classes": [],
            "_model_module": "@jupyter-widgets/controls",
            "_model_module_version": "1.5.0",
            "_model_name": "HTMLModel",
            "_view_count": null,
            "_view_module": "@jupyter-widgets/controls",
            "_view_module_version": "1.5.0",
            "_view_name": "HTMLView",
            "description": "",
            "description_tooltip": null,
            "layout": "IPY_MODEL_27a65cc72eef496098de77fb7cf7cd73",
            "placeholder": "​",
            "style": "IPY_MODEL_6fdcbd707e5c494e83312bd32c36912b",
            "value": " 28/28 [06:53&lt;00:00, 10.74s/it]"
          }
        },
        "734ceefba8a440809660be18201e82a6": {
          "model_module": "@jupyter-widgets/base",
          "model_name": "LayoutModel",
          "model_module_version": "1.2.0",
          "state": {
            "_model_module": "@jupyter-widgets/base",
            "_model_module_version": "1.2.0",
            "_model_name": "LayoutModel",
            "_view_count": null,
            "_view_module": "@jupyter-widgets/base",
            "_view_module_version": "1.2.0",
            "_view_name": "LayoutView",
            "align_content": null,
            "align_items": null,
            "align_self": null,
            "border": null,
            "bottom": null,
            "display": null,
            "flex": null,
            "flex_flow": null,
            "grid_area": null,
            "grid_auto_columns": null,
            "grid_auto_flow": null,
            "grid_auto_rows": null,
            "grid_column": null,
            "grid_gap": null,
            "grid_row": null,
            "grid_template_areas": null,
            "grid_template_columns": null,
            "grid_template_rows": null,
            "height": null,
            "justify_content": null,
            "justify_items": null,
            "left": null,
            "margin": null,
            "max_height": null,
            "max_width": null,
            "min_height": null,
            "min_width": null,
            "object_fit": null,
            "object_position": null,
            "order": null,
            "overflow": null,
            "overflow_x": null,
            "overflow_y": null,
            "padding": null,
            "right": null,
            "top": null,
            "visibility": null,
            "width": null
          }
        },
        "c0942666bdd847f49b0800ee356322c5": {
          "model_module": "@jupyter-widgets/base",
          "model_name": "LayoutModel",
          "model_module_version": "1.2.0",
          "state": {
            "_model_module": "@jupyter-widgets/base",
            "_model_module_version": "1.2.0",
            "_model_name": "LayoutModel",
            "_view_count": null,
            "_view_module": "@jupyter-widgets/base",
            "_view_module_version": "1.2.0",
            "_view_name": "LayoutView",
            "align_content": null,
            "align_items": null,
            "align_self": null,
            "border": null,
            "bottom": null,
            "display": null,
            "flex": null,
            "flex_flow": null,
            "grid_area": null,
            "grid_auto_columns": null,
            "grid_auto_flow": null,
            "grid_auto_rows": null,
            "grid_column": null,
            "grid_gap": null,
            "grid_row": null,
            "grid_template_areas": null,
            "grid_template_columns": null,
            "grid_template_rows": null,
            "height": null,
            "justify_content": null,
            "justify_items": null,
            "left": null,
            "margin": null,
            "max_height": null,
            "max_width": null,
            "min_height": null,
            "min_width": null,
            "object_fit": null,
            "object_position": null,
            "order": null,
            "overflow": null,
            "overflow_x": null,
            "overflow_y": null,
            "padding": null,
            "right": null,
            "top": null,
            "visibility": null,
            "width": null
          }
        },
        "12485c1d2ce7434e8f41346af0c6b31e": {
          "model_module": "@jupyter-widgets/controls",
          "model_name": "DescriptionStyleModel",
          "model_module_version": "1.5.0",
          "state": {
            "_model_module": "@jupyter-widgets/controls",
            "_model_module_version": "1.5.0",
            "_model_name": "DescriptionStyleModel",
            "_view_count": null,
            "_view_module": "@jupyter-widgets/base",
            "_view_module_version": "1.2.0",
            "_view_name": "StyleView",
            "description_width": ""
          }
        },
        "c991a888c0f84c95a535a2a49f640030": {
          "model_module": "@jupyter-widgets/base",
          "model_name": "LayoutModel",
          "model_module_version": "1.2.0",
          "state": {
            "_model_module": "@jupyter-widgets/base",
            "_model_module_version": "1.2.0",
            "_model_name": "LayoutModel",
            "_view_count": null,
            "_view_module": "@jupyter-widgets/base",
            "_view_module_version": "1.2.0",
            "_view_name": "LayoutView",
            "align_content": null,
            "align_items": null,
            "align_self": null,
            "border": null,
            "bottom": null,
            "display": null,
            "flex": null,
            "flex_flow": null,
            "grid_area": null,
            "grid_auto_columns": null,
            "grid_auto_flow": null,
            "grid_auto_rows": null,
            "grid_column": null,
            "grid_gap": null,
            "grid_row": null,
            "grid_template_areas": null,
            "grid_template_columns": null,
            "grid_template_rows": null,
            "height": null,
            "justify_content": null,
            "justify_items": null,
            "left": null,
            "margin": null,
            "max_height": null,
            "max_width": null,
            "min_height": null,
            "min_width": null,
            "object_fit": null,
            "object_position": null,
            "order": null,
            "overflow": null,
            "overflow_x": null,
            "overflow_y": null,
            "padding": null,
            "right": null,
            "top": null,
            "visibility": null,
            "width": null
          }
        },
        "30d81b3b89004189a6ae9f27f808c3b6": {
          "model_module": "@jupyter-widgets/controls",
          "model_name": "ProgressStyleModel",
          "model_module_version": "1.5.0",
          "state": {
            "_model_module": "@jupyter-widgets/controls",
            "_model_module_version": "1.5.0",
            "_model_name": "ProgressStyleModel",
            "_view_count": null,
            "_view_module": "@jupyter-widgets/base",
            "_view_module_version": "1.2.0",
            "_view_name": "StyleView",
            "bar_color": null,
            "description_width": ""
          }
        },
        "27a65cc72eef496098de77fb7cf7cd73": {
          "model_module": "@jupyter-widgets/base",
          "model_name": "LayoutModel",
          "model_module_version": "1.2.0",
          "state": {
            "_model_module": "@jupyter-widgets/base",
            "_model_module_version": "1.2.0",
            "_model_name": "LayoutModel",
            "_view_count": null,
            "_view_module": "@jupyter-widgets/base",
            "_view_module_version": "1.2.0",
            "_view_name": "LayoutView",
            "align_content": null,
            "align_items": null,
            "align_self": null,
            "border": null,
            "bottom": null,
            "display": null,
            "flex": null,
            "flex_flow": null,
            "grid_area": null,
            "grid_auto_columns": null,
            "grid_auto_flow": null,
            "grid_auto_rows": null,
            "grid_column": null,
            "grid_gap": null,
            "grid_row": null,
            "grid_template_areas": null,
            "grid_template_columns": null,
            "grid_template_rows": null,
            "height": null,
            "justify_content": null,
            "justify_items": null,
            "left": null,
            "margin": null,
            "max_height": null,
            "max_width": null,
            "min_height": null,
            "min_width": null,
            "object_fit": null,
            "object_position": null,
            "order": null,
            "overflow": null,
            "overflow_x": null,
            "overflow_y": null,
            "padding": null,
            "right": null,
            "top": null,
            "visibility": null,
            "width": null
          }
        },
        "6fdcbd707e5c494e83312bd32c36912b": {
          "model_module": "@jupyter-widgets/controls",
          "model_name": "DescriptionStyleModel",
          "model_module_version": "1.5.0",
          "state": {
            "_model_module": "@jupyter-widgets/controls",
            "_model_module_version": "1.5.0",
            "_model_name": "DescriptionStyleModel",
            "_view_count": null,
            "_view_module": "@jupyter-widgets/base",
            "_view_module_version": "1.2.0",
            "_view_name": "StyleView",
            "description_width": ""
          }
        },
        "eb2c83e1f5bb43db936df7a3a4b1fcf6": {
          "model_module": "@jupyter-widgets/controls",
          "model_name": "HBoxModel",
          "model_module_version": "1.5.0",
          "state": {
            "_dom_classes": [],
            "_model_module": "@jupyter-widgets/controls",
            "_model_module_version": "1.5.0",
            "_model_name": "HBoxModel",
            "_view_count": null,
            "_view_module": "@jupyter-widgets/controls",
            "_view_module_version": "1.5.0",
            "_view_name": "HBoxView",
            "box_style": "",
            "children": [
              "IPY_MODEL_57b6f70832ac4dcc9d04e54f5e60fe19",
              "IPY_MODEL_2d37e3c3d0334d9d976f6de0da1abce4",
              "IPY_MODEL_11aa7f691d5b4cc48ece12f055bae593"
            ],
            "layout": "IPY_MODEL_720d674e459c4deeae8bf8dcae0e1146"
          }
        },
        "57b6f70832ac4dcc9d04e54f5e60fe19": {
          "model_module": "@jupyter-widgets/controls",
          "model_name": "HTMLModel",
          "model_module_version": "1.5.0",
          "state": {
            "_dom_classes": [],
            "_model_module": "@jupyter-widgets/controls",
            "_model_module_version": "1.5.0",
            "_model_name": "HTMLModel",
            "_view_count": null,
            "_view_module": "@jupyter-widgets/controls",
            "_view_module_version": "1.5.0",
            "_view_name": "HTMLView",
            "description": "",
            "description_tooltip": null,
            "layout": "IPY_MODEL_c0b5a73e0108436ea6598b68990e01fd",
            "placeholder": "​",
            "style": "IPY_MODEL_58dcc9605e2542c9acf278729b35df3c",
            "value": "100%"
          }
        },
        "2d37e3c3d0334d9d976f6de0da1abce4": {
          "model_module": "@jupyter-widgets/controls",
          "model_name": "FloatProgressModel",
          "model_module_version": "1.5.0",
          "state": {
            "_dom_classes": [],
            "_model_module": "@jupyter-widgets/controls",
            "_model_module_version": "1.5.0",
            "_model_name": "FloatProgressModel",
            "_view_count": null,
            "_view_module": "@jupyter-widgets/controls",
            "_view_module_version": "1.5.0",
            "_view_name": "ProgressView",
            "bar_style": "success",
            "description": "",
            "description_tooltip": null,
            "layout": "IPY_MODEL_04b7ce881d8e48aabe2b8875c2032861",
            "max": 28,
            "min": 0,
            "orientation": "horizontal",
            "style": "IPY_MODEL_142efe4f04f047098af0fe9c0d23833c",
            "value": 28
          }
        },
        "11aa7f691d5b4cc48ece12f055bae593": {
          "model_module": "@jupyter-widgets/controls",
          "model_name": "HTMLModel",
          "model_module_version": "1.5.0",
          "state": {
            "_dom_classes": [],
            "_model_module": "@jupyter-widgets/controls",
            "_model_module_version": "1.5.0",
            "_model_name": "HTMLModel",
            "_view_count": null,
            "_view_module": "@jupyter-widgets/controls",
            "_view_module_version": "1.5.0",
            "_view_name": "HTMLView",
            "description": "",
            "description_tooltip": null,
            "layout": "IPY_MODEL_4f73d72477b743ddabe6c50622f9759b",
            "placeholder": "​",
            "style": "IPY_MODEL_8239492191a14440ab47b189ae4d3747",
            "value": " 28/28 [17:41&lt;00:00, 56.89s/it]"
          }
        },
        "720d674e459c4deeae8bf8dcae0e1146": {
          "model_module": "@jupyter-widgets/base",
          "model_name": "LayoutModel",
          "model_module_version": "1.2.0",
          "state": {
            "_model_module": "@jupyter-widgets/base",
            "_model_module_version": "1.2.0",
            "_model_name": "LayoutModel",
            "_view_count": null,
            "_view_module": "@jupyter-widgets/base",
            "_view_module_version": "1.2.0",
            "_view_name": "LayoutView",
            "align_content": null,
            "align_items": null,
            "align_self": null,
            "border": null,
            "bottom": null,
            "display": null,
            "flex": null,
            "flex_flow": null,
            "grid_area": null,
            "grid_auto_columns": null,
            "grid_auto_flow": null,
            "grid_auto_rows": null,
            "grid_column": null,
            "grid_gap": null,
            "grid_row": null,
            "grid_template_areas": null,
            "grid_template_columns": null,
            "grid_template_rows": null,
            "height": null,
            "justify_content": null,
            "justify_items": null,
            "left": null,
            "margin": null,
            "max_height": null,
            "max_width": null,
            "min_height": null,
            "min_width": null,
            "object_fit": null,
            "object_position": null,
            "order": null,
            "overflow": null,
            "overflow_x": null,
            "overflow_y": null,
            "padding": null,
            "right": null,
            "top": null,
            "visibility": null,
            "width": null
          }
        },
        "c0b5a73e0108436ea6598b68990e01fd": {
          "model_module": "@jupyter-widgets/base",
          "model_name": "LayoutModel",
          "model_module_version": "1.2.0",
          "state": {
            "_model_module": "@jupyter-widgets/base",
            "_model_module_version": "1.2.0",
            "_model_name": "LayoutModel",
            "_view_count": null,
            "_view_module": "@jupyter-widgets/base",
            "_view_module_version": "1.2.0",
            "_view_name": "LayoutView",
            "align_content": null,
            "align_items": null,
            "align_self": null,
            "border": null,
            "bottom": null,
            "display": null,
            "flex": null,
            "flex_flow": null,
            "grid_area": null,
            "grid_auto_columns": null,
            "grid_auto_flow": null,
            "grid_auto_rows": null,
            "grid_column": null,
            "grid_gap": null,
            "grid_row": null,
            "grid_template_areas": null,
            "grid_template_columns": null,
            "grid_template_rows": null,
            "height": null,
            "justify_content": null,
            "justify_items": null,
            "left": null,
            "margin": null,
            "max_height": null,
            "max_width": null,
            "min_height": null,
            "min_width": null,
            "object_fit": null,
            "object_position": null,
            "order": null,
            "overflow": null,
            "overflow_x": null,
            "overflow_y": null,
            "padding": null,
            "right": null,
            "top": null,
            "visibility": null,
            "width": null
          }
        },
        "58dcc9605e2542c9acf278729b35df3c": {
          "model_module": "@jupyter-widgets/controls",
          "model_name": "DescriptionStyleModel",
          "model_module_version": "1.5.0",
          "state": {
            "_model_module": "@jupyter-widgets/controls",
            "_model_module_version": "1.5.0",
            "_model_name": "DescriptionStyleModel",
            "_view_count": null,
            "_view_module": "@jupyter-widgets/base",
            "_view_module_version": "1.2.0",
            "_view_name": "StyleView",
            "description_width": ""
          }
        },
        "04b7ce881d8e48aabe2b8875c2032861": {
          "model_module": "@jupyter-widgets/base",
          "model_name": "LayoutModel",
          "model_module_version": "1.2.0",
          "state": {
            "_model_module": "@jupyter-widgets/base",
            "_model_module_version": "1.2.0",
            "_model_name": "LayoutModel",
            "_view_count": null,
            "_view_module": "@jupyter-widgets/base",
            "_view_module_version": "1.2.0",
            "_view_name": "LayoutView",
            "align_content": null,
            "align_items": null,
            "align_self": null,
            "border": null,
            "bottom": null,
            "display": null,
            "flex": null,
            "flex_flow": null,
            "grid_area": null,
            "grid_auto_columns": null,
            "grid_auto_flow": null,
            "grid_auto_rows": null,
            "grid_column": null,
            "grid_gap": null,
            "grid_row": null,
            "grid_template_areas": null,
            "grid_template_columns": null,
            "grid_template_rows": null,
            "height": null,
            "justify_content": null,
            "justify_items": null,
            "left": null,
            "margin": null,
            "max_height": null,
            "max_width": null,
            "min_height": null,
            "min_width": null,
            "object_fit": null,
            "object_position": null,
            "order": null,
            "overflow": null,
            "overflow_x": null,
            "overflow_y": null,
            "padding": null,
            "right": null,
            "top": null,
            "visibility": null,
            "width": null
          }
        },
        "142efe4f04f047098af0fe9c0d23833c": {
          "model_module": "@jupyter-widgets/controls",
          "model_name": "ProgressStyleModel",
          "model_module_version": "1.5.0",
          "state": {
            "_model_module": "@jupyter-widgets/controls",
            "_model_module_version": "1.5.0",
            "_model_name": "ProgressStyleModel",
            "_view_count": null,
            "_view_module": "@jupyter-widgets/base",
            "_view_module_version": "1.2.0",
            "_view_name": "StyleView",
            "bar_color": null,
            "description_width": ""
          }
        },
        "4f73d72477b743ddabe6c50622f9759b": {
          "model_module": "@jupyter-widgets/base",
          "model_name": "LayoutModel",
          "model_module_version": "1.2.0",
          "state": {
            "_model_module": "@jupyter-widgets/base",
            "_model_module_version": "1.2.0",
            "_model_name": "LayoutModel",
            "_view_count": null,
            "_view_module": "@jupyter-widgets/base",
            "_view_module_version": "1.2.0",
            "_view_name": "LayoutView",
            "align_content": null,
            "align_items": null,
            "align_self": null,
            "border": null,
            "bottom": null,
            "display": null,
            "flex": null,
            "flex_flow": null,
            "grid_area": null,
            "grid_auto_columns": null,
            "grid_auto_flow": null,
            "grid_auto_rows": null,
            "grid_column": null,
            "grid_gap": null,
            "grid_row": null,
            "grid_template_areas": null,
            "grid_template_columns": null,
            "grid_template_rows": null,
            "height": null,
            "justify_content": null,
            "justify_items": null,
            "left": null,
            "margin": null,
            "max_height": null,
            "max_width": null,
            "min_height": null,
            "min_width": null,
            "object_fit": null,
            "object_position": null,
            "order": null,
            "overflow": null,
            "overflow_x": null,
            "overflow_y": null,
            "padding": null,
            "right": null,
            "top": null,
            "visibility": null,
            "width": null
          }
        },
        "8239492191a14440ab47b189ae4d3747": {
          "model_module": "@jupyter-widgets/controls",
          "model_name": "DescriptionStyleModel",
          "model_module_version": "1.5.0",
          "state": {
            "_model_module": "@jupyter-widgets/controls",
            "_model_module_version": "1.5.0",
            "_model_name": "DescriptionStyleModel",
            "_view_count": null,
            "_view_module": "@jupyter-widgets/base",
            "_view_module_version": "1.2.0",
            "_view_name": "StyleView",
            "description_width": ""
          }
        }
      }
    }
  },
  "cells": [
    {
      "cell_type": "code",
      "execution_count": 2,
      "metadata": {
        "id": "NW442F0TmgyS"
      },
      "outputs": [],
      "source": [
        "import pandas as pd\n",
        "import pandas as pd\n",
        "import numpy as np\n",
        "import re"
      ]
    },
    {
      "cell_type": "code",
      "source": [
        "df = pd.read_csv('/content/drive/MyDrive/train (1).csv')"
      ],
      "metadata": {
        "id": "JGBc9jaXmkRd"
      },
      "execution_count": 42,
      "outputs": []
    },
    {
      "cell_type": "code",
      "source": [
        "df = df.dropna(subset=['actual_price'])"
      ],
      "metadata": {
        "id": "UMjXZPfgWZko"
      },
      "execution_count": 43,
      "outputs": []
    },
    {
      "cell_type": "code",
      "source": [
        "df.shape"
      ],
      "metadata": {
        "colab": {
          "base_uri": "https://localhost:8080/"
        },
        "id": "hYtUOSPlm-oY",
        "outputId": "1503e683-1ed2-48fa-e384-887990423fbb"
      },
      "execution_count": 4,
      "outputs": [
        {
          "output_type": "execute_result",
          "data": {
            "text/plain": [
              "(15367, 22)"
            ]
          },
          "metadata": {},
          "execution_count": 4
        }
      ]
    },
    {
      "cell_type": "code",
      "source": [
        "df.columns"
      ],
      "metadata": {
        "colab": {
          "base_uri": "https://localhost:8080/"
        },
        "id": "WUx3C0oxoTdY",
        "outputId": "0afa8a03-3de0-46f9-9381-1a9cb0509f61"
      },
      "execution_count": 5,
      "outputs": [
        {
          "output_type": "execute_result",
          "data": {
            "text/plain": [
              "Index(['id', 'actual_price', 'price', 'start_date', 'close_date',\n",
              "       'sale_end_date', 'brand', 'model', 'generation', 'modification',\n",
              "       'equipment', 'body_type', 'color', 'year', 'mileage', 'owners_count',\n",
              "       'latitude', 'longitude', 'crashes', 'is_taxi', 'is_carsharing',\n",
              "       'description'],\n",
              "      dtype='object')"
            ]
          },
          "metadata": {},
          "execution_count": 5
        }
      ]
    },
    {
      "cell_type": "code",
      "source": [
        "test.columns"
      ],
      "metadata": {
        "colab": {
          "base_uri": "https://localhost:8080/"
        },
        "id": "ucQD_B_9-fo3",
        "outputId": "2b28e2d0-e29e-4f12-b279-1171db9ce669"
      },
      "execution_count": 50,
      "outputs": [
        {
          "output_type": "execute_result",
          "data": {
            "text/plain": [
              "Index(['id', 'sale_end_date', 'brand', 'model', 'generation', 'modification',\n",
              "       'equipment', 'body_type', 'color', 'year', 'mileage', 'owners_count',\n",
              "       'latitude', 'longitude', 'crashes', 'is_taxi', 'is_carsharing',\n",
              "       'description'],\n",
              "      dtype='object')"
            ]
          },
          "metadata": {},
          "execution_count": 50
        }
      ]
    },
    {
      "cell_type": "code",
      "source": [
        "df.dtypes"
      ],
      "metadata": {
        "colab": {
          "base_uri": "https://localhost:8080/"
        },
        "id": "eVrk3YicoupV",
        "outputId": "f74499b9-af69-4260-e946-e1782b35f647"
      },
      "execution_count": 6,
      "outputs": [
        {
          "output_type": "execute_result",
          "data": {
            "text/plain": [
              "id                 int64\n",
              "actual_price     float64\n",
              "price            float64\n",
              "start_date        object\n",
              "close_date        object\n",
              "sale_end_date     object\n",
              "brand             object\n",
              "model             object\n",
              "generation        object\n",
              "modification      object\n",
              "equipment         object\n",
              "body_type         object\n",
              "color             object\n",
              "year             float64\n",
              "mileage            int64\n",
              "owners_count      object\n",
              "latitude         float64\n",
              "longitude        float64\n",
              "crashes          float64\n",
              "is_taxi          float64\n",
              "is_carsharing    float64\n",
              "description       object\n",
              "dtype: object"
            ]
          },
          "metadata": {},
          "execution_count": 6
        }
      ]
    },
    {
      "cell_type": "code",
      "source": [
        "df.brand.value_counts()"
      ],
      "metadata": {
        "colab": {
          "base_uri": "https://localhost:8080/"
        },
        "id": "Vgi87CC0o6bT",
        "outputId": "df72c410-ab09-4ea6-8dc3-6f6d3de35f45"
      },
      "execution_count": 13,
      "outputs": [
        {
          "output_type": "execute_result",
          "data": {
            "text/plain": [
              "Toyota        41113\n",
              "Kia           34369\n",
              "ВАЗ (LADA)    32794\n",
              "Volkswagen    30597\n",
              "Nissan        30311\n",
              "              ...  \n",
              "Alfa Romeo       26\n",
              "Pontiac          25\n",
              "Богдан           15\n",
              "GMC              10\n",
              "SEAT              7\n",
              "Name: brand, Length: 65, dtype: int64"
            ]
          },
          "metadata": {},
          "execution_count": 13
        }
      ]
    },
    {
      "cell_type": "code",
      "source": [
        "import pandas as pd\n",
        "from datetime import datetime\n",
        "\n",
        "# Загрузим ваш датасет\n",
        "# Предположим, что df - это ваш DataFrame\n",
        "# df = pd.read_csv(\"ваш_файл.csv\")\n",
        "\n",
        "# 1. Длительность эксплуатации\n",
        "\n",
        "def process(df):\n",
        "    df.is_taxi = df.is_taxi.fillna(0)\n",
        "    df['is_carsharing'] = df['is_carsharing'].fillna(2)\n",
        "\n",
        "    current_year = datetime.now().year\n",
        "    df['years_in_use'] = current_year - df['year']\n",
        "\n",
        "    # 2. Пробег в год\n",
        "    df['mileage_per_year'] = df['mileage'] / df['years_in_use']\n",
        "\n",
        "    # 4. Средняя цена автомобиля по бренду и модели\n",
        "    try:\n",
        "      df['avg_price_by_brand_model'] = df.groupby(['brand', 'model'])['actual_price'].transform('mean')\n",
        "    except:\n",
        "      pass\n",
        "\n",
        "    # 5. Категоризация года выпуска\n",
        "    bins = [0, 3, 7, float('inf')]\n",
        "    labels = ['новые', 'средние', 'старые']\n",
        "    df['year_category'] = pd.cut(df['years_in_use'], bins=bins, labels=labels, right=False)\n",
        "    df['year_category'] = df['year_category'].astype('object')\n",
        "\n",
        "    # 6. Признаки наличия аварий и статуса такси/каршеринга\n",
        "    df['has_crashes'] = df['crashes'].apply(lambda x: 1 if x > 0 else 0)\n",
        "    df['is_taxi'] = df['is_taxi'].astype(int)\n",
        "    df['is_carsharing'] = df['is_carsharing'].astype(int)\n",
        "\n",
        "    # 7. Длина описания\n",
        "    df['description_length'] = df['description'].apply(lambda x: len(str(x).split()))\n",
        "\n",
        "\n",
        "    df['sale_end_date'] = pd.to_datetime(df['sale_end_date'], errors='coerce')\n",
        "\n",
        "    df['sale_end_year'] = df['sale_end_date'].dt.year.fillna(0).astype(int)\n",
        "    df['sale_end_month'] = df['sale_end_date'].dt.month.fillna(0).astype(int)\n",
        "    df['sale_end_day'] = df['sale_end_date'].dt.day.fillna(0).astype(int)\n",
        "\n",
        "    # Удаление временных столбцов\n",
        "    df = df.drop(['sale_end_date'], axis=1)\n",
        "    try:\n",
        "      df = df.drop(['start_date', 'close_date'], axis=1)\n",
        "    except:\n",
        "      pass\n",
        "\n",
        "    df['Engine'] = df['modification'].apply(lambda x: float(x.split('(')[1].split()[0]))\n",
        "    df['generation'] = df['generation']\n",
        "\n",
        "    df['num_gen'] = df['generation'].apply(lambda x: x.split()[0])\n",
        "\n",
        "\n",
        "    df.owners_count = df.owners_count.apply(lambda x : int(x) if x != '> 3' else 5)\n",
        "    df = df.fillna(-1)\n",
        "    df[['brand','model','generation','modification','equipment','body_type','color','description','year_category', 'num_gen']] = df[['brand','model','generation','modification','equipment','body_type','color','description','year_category', 'num_gen']].replace(-1, 'empty')\n",
        "\n",
        "    return df\n",
        "\n"
      ],
      "metadata": {
        "id": "H0scgmRKpSYO"
      },
      "execution_count": 41,
      "outputs": []
    },
    {
      "cell_type": "code",
      "source": [
        "import os\n",
        "import pandas as pd\n",
        "import numpy as np\n",
        "import matplotlib.pyplot as plt\n",
        "import seaborn as sns\n",
        "import copy\n",
        "import math\n",
        "import pickle\n",
        "from sklearn.metrics import roc_auc_score\n",
        "# import optuna\n",
        "import catboost as cb\n",
        "import warnings\n",
        "from sklearn.model_selection import train_test_split\n",
        "from sklearn.preprocessing import StandardScaler\n",
        "warnings.filterwarnings('ignore')\n",
        "from tqdm.auto import tqdm"
      ],
      "metadata": {
        "id": "BWj4_y3nu519"
      },
      "execution_count": 7,
      "outputs": []
    },
    {
      "cell_type": "code",
      "source": [
        "!pip install catboost"
      ],
      "metadata": {
        "colab": {
          "base_uri": "https://localhost:8080/"
        },
        "id": "Q-wTjfrHYnvQ",
        "outputId": "c79cdef0-b0a2-45b9-f38b-86a6697a6327"
      },
      "execution_count": 6,
      "outputs": [
        {
          "output_type": "stream",
          "name": "stdout",
          "text": [
            "Requirement already satisfied: catboost in /usr/local/lib/python3.10/dist-packages (1.2.2)\n",
            "Requirement already satisfied: graphviz in /usr/local/lib/python3.10/dist-packages (from catboost) (0.20.1)\n",
            "Requirement already satisfied: matplotlib in /usr/local/lib/python3.10/dist-packages (from catboost) (3.7.1)\n",
            "Requirement already satisfied: numpy>=1.16.0 in /usr/local/lib/python3.10/dist-packages (from catboost) (1.23.5)\n",
            "Requirement already satisfied: pandas>=0.24 in /usr/local/lib/python3.10/dist-packages (from catboost) (1.5.3)\n",
            "Requirement already satisfied: scipy in /usr/local/lib/python3.10/dist-packages (from catboost) (1.11.4)\n",
            "Requirement already satisfied: plotly in /usr/local/lib/python3.10/dist-packages (from catboost) (5.15.0)\n",
            "Requirement already satisfied: six in /usr/local/lib/python3.10/dist-packages (from catboost) (1.16.0)\n",
            "Requirement already satisfied: python-dateutil>=2.8.1 in /usr/local/lib/python3.10/dist-packages (from pandas>=0.24->catboost) (2.8.2)\n",
            "Requirement already satisfied: pytz>=2020.1 in /usr/local/lib/python3.10/dist-packages (from pandas>=0.24->catboost) (2023.3.post1)\n",
            "Requirement already satisfied: contourpy>=1.0.1 in /usr/local/lib/python3.10/dist-packages (from matplotlib->catboost) (1.2.0)\n",
            "Requirement already satisfied: cycler>=0.10 in /usr/local/lib/python3.10/dist-packages (from matplotlib->catboost) (0.12.1)\n",
            "Requirement already satisfied: fonttools>=4.22.0 in /usr/local/lib/python3.10/dist-packages (from matplotlib->catboost) (4.47.2)\n",
            "Requirement already satisfied: kiwisolver>=1.0.1 in /usr/local/lib/python3.10/dist-packages (from matplotlib->catboost) (1.4.5)\n",
            "Requirement already satisfied: packaging>=20.0 in /usr/local/lib/python3.10/dist-packages (from matplotlib->catboost) (23.2)\n",
            "Requirement already satisfied: pillow>=6.2.0 in /usr/local/lib/python3.10/dist-packages (from matplotlib->catboost) (9.4.0)\n",
            "Requirement already satisfied: pyparsing>=2.3.1 in /usr/local/lib/python3.10/dist-packages (from matplotlib->catboost) (3.1.1)\n",
            "Requirement already satisfied: tenacity>=6.2.0 in /usr/local/lib/python3.10/dist-packages (from plotly->catboost) (8.2.3)\n"
          ]
        }
      ]
    },
    {
      "cell_type": "code",
      "source": [
        "import catboost as cb\n",
        "from sklearn.metrics import r2_score\n",
        "\n",
        "class Boosting:\n",
        "\n",
        "    def __init__(self, X_train, X_val, y_train, y_val, cat_features, params = None):\n",
        "        print(\"Init...\")\n",
        "        self.X_train = X_train\n",
        "        self.X_val = X_val\n",
        "        self.y_train = y_train\n",
        "        self.y_val = y_val\n",
        "        self.cat_features = cat_features\n",
        "        self.params = params\n",
        "        self.model = None\n",
        "        self.best_params = None\n",
        "        self.top_features = None\n",
        "        self.train_pool = cb.Pool(data = X_train, label = y_train, cat_features = cat_features)\n",
        "        self.val_pool = cb.Pool(data = X_val, label = y_val, cat_features = cat_features)\n",
        "        print(\"Init Finished!\")\n",
        "\n",
        "    def train(self):\n",
        "        if self.params is None:\n",
        "            model = cb.CatBoostRegressor(\n",
        "                learning_rate = 0.303,\n",
        "                depth = 3,\n",
        "                l2_leaf_reg = 2.437,\n",
        "                random_seed = 42,\n",
        "                min_data_in_leaf = 30,\n",
        "                one_hot_max_size = 40,\n",
        "                colsample_bylevel = 0.079,\n",
        "                loss_function = 'RMSE',\n",
        "                task_type = 'CPU',\n",
        "                iterations = 1000,\n",
        "                use_best_model = True,\n",
        "                verbose = 100,\n",
        "                thread_count = -1,\n",
        "                early_stopping_rounds = 100,\n",
        "                eval_metric = 'R2',\n",
        "                boosting_type = 'Plain',\n",
        "                bootstrap_type = 'MVS'\n",
        "            )\n",
        "        else:\n",
        "            self.params[\"verbose\"] = 100\n",
        "            self.params[\"iterations\"] = 1000\n",
        "            model = cb.CatBoostRegressor(**self.params)\n",
        "\n",
        "        model.fit(\n",
        "            self.train_pool,\n",
        "            eval_set=self.val_pool\n",
        "        )\n",
        "\n",
        "        y_train_pred = model.predict(self.X_train)\n",
        "        y_val_pred = model.predict(self.X_val)\n",
        "\n",
        "        r2_tr_score= r2_score(self.y_train, y_train_pred)\n",
        "        r2_val_score= r2_score(self.y_val, y_val_pred)\n",
        "\n",
        "        print(\"R^2 на обучающей выборке:\", r2_tr_score)\n",
        "        print(\"R^2 на валидационной выборке:\", r2_val_score)\n",
        "\n",
        "        self.model=model\n",
        "\n",
        "    def optimize_hyperparams(self):\n",
        "\n",
        "        def objective(trial):\n",
        "            params={\n",
        "                \"learning_rate\": trial.suggest_loguniform(\"learning_rate\",1e-5,1e0),\n",
        "                \"l2_leaf_reg\": trial.suggest_loguniform(\"l2_leaf_reg\",1e-2,3e0),\n",
        "                \"colsample_bylevel\": trial.suggest_float(\"colsample_bylevel\",0.01,0.1,log=True),\n",
        "                \"depth\": trial.suggest_int(\"depth\",2,5),\n",
        "                \"boosting_type\": trial.suggest_categorical(\"boosting_type\",[\"Ordered\",\"Plain\"]),\n",
        "                \"bootstrap_type\": trial.suggest_categorical(\"bootstrap_type\",[\"Bayesian\",\"Bernoulli\",\"MVS\"]),\n",
        "                \"min_data_in_leaf\": trial.suggest_int(\"min_data_in_leaf\",2,50),\n",
        "                \"one_hot_max_size\": trial.suggest_int(\"one_hot_max_size\",2,50),\n",
        "                \"iterations\": trial.suggest_int(\"iterations\",500,3500),\n",
        "                \"eval_metric\":\"R2\"\n",
        "            }\n",
        "\n",
        "            if params[\"bootstrap_type\"]==\"Bayesian\":\n",
        "                params[\"bagging_temperature\"]=trial.suggest_float(\"bagging_temperature\",0,10)\n",
        "            elif params[\"bootstrap_type\"]==\"Bernoulli\":\n",
        "                params[\"subsample\"]=trial.suggest_float(\"subsample\",0.1,1,log=True)\n",
        "\n",
        "            model=cb.CatBoostRegressor(\n",
        "            loss_function='RMSE',\n",
        "            random_seed=42,\n",
        "            task_type='CPU',\n",
        "            use_best_model=True,\n",
        "            verbose=False,\n",
        "            **params\n",
        "            )\n",
        "\n",
        "            model.fit(\n",
        "            self.train_pool,\n",
        "            eval_set=self.val_pool\n",
        "            )\n",
        "\n",
        "            y_pred=model.predict(self.X_val)\n",
        "\n",
        "            r2=r2_score(self.y_val,y_pred)\n",
        "\n",
        "            return r2\n",
        "\n",
        "        study = optuna.create_study(pruner=optuna.pruners.MedianPruner(n_warmup_steps = 5), direction = \"maximize\")\n",
        "        study.optimize(objective, n_trials = 100, timeout = 600)\n",
        "\n",
        "        self.best_params = study.best_params\n",
        "\n",
        "        print(\"Best params:\", self.best_params)\n",
        "\n",
        "\n",
        "    def save_model(self, file_path):\n",
        "        with open(file_path, \"wb\") as f:\n",
        "            pickle.dump(self.model, f)\n",
        "\n",
        "    def show_feats_imp(self):\n",
        "        if self.model is None:\n",
        "            raise ValueError(\"Model not found!\")\n",
        "\n",
        "        feature_importance = self.model.feature_importances_\n",
        "        sorted_idx = np.argsort(feature_importance)\n",
        "\n",
        "        plt.figure(figsize=(15, 10))\n",
        "        plt.barh(range(len(sorted_idx)), feature_importance[sorted_idx], align='center')\n",
        "        plt.yticks(range(len(sorted_idx)), np.array(self.model.feature_names_)[sorted_idx])\n",
        "        plt.title(\"Feature Importance\")\n",
        "        plt.show()\n",
        "\n",
        "        self.top_features = np.flip(np.array(self.model.feature_names_)[sorted_idx])\n",
        "        print(self.top_features)\n",
        "\n",
        "\n",
        "    def top_feats_selection(self):\n",
        "\n",
        "        top = []\n",
        "        r2_tr = []\n",
        "        r2_val = []\n",
        "\n",
        "        for col in tqdm(self.top_features):\n",
        "\n",
        "            top.append(col)\n",
        "            top_cat = list(set(self.cat_features) & set(top))\n",
        "\n",
        "            train_pool = cb.Pool(data = self.X_train[top], label = self.y_train, cat_features = top_cat)\n",
        "            val_pool = cb.Pool(data = self.X_val[top], label = self.y_val, cat_features = top_cat)\n",
        "\n",
        "            if self.params is None:\n",
        "                model = cb.CatBoostRegressor(\n",
        "                    learning_rate = 0.303,\n",
        "                    depth = 3,\n",
        "                    l2_leaf_reg = 2.437,\n",
        "                    random_seed = 42,\n",
        "                    min_data_in_leaf = 30,\n",
        "                    one_hot_max_size = 40,\n",
        "                    colsample_bylevel = 0.079,\n",
        "                    loss_function = 'RMSE',\n",
        "                    task_type = 'CPU',\n",
        "                    iterations = 1000,\n",
        "                    use_best_model = True,\n",
        "                    verbose = False,\n",
        "                    thread_count = -1,\n",
        "                    early_stopping_rounds = 100,\n",
        "                    eval_metric = 'R2',\n",
        "                    boosting_type = 'Plain',\n",
        "                    bootstrap_type = 'MVS'\n",
        "                )\n",
        "                path = \"no_optuna_top_features.xlsx\"\n",
        "            else:\n",
        "                self.params[\"verbose\"] = 0\n",
        "                self.params[\"iterations\"] = 500\n",
        "                path = \"optuna_top_features.xlsx\"\n",
        "                model = cb.CatBoostRegressor(**self.params)\n",
        "\n",
        "            model.fit(\n",
        "                train_pool,\n",
        "                eval_set=val_pool\n",
        "            )\n",
        "\n",
        "            y_train_pred=model.predict(self.X_train[top])\n",
        "            y_val_pred=model.predict(self.X_val[top])\n",
        "\n",
        "            r2_tr_score=r2_score(self.y_train,y_train_pred)\n",
        "            r2_val_score=r2_score(self.y_val,y_val_pred)\n",
        "\n",
        "            r2_tr.append(r2_tr_score)\n",
        "            r2_val.append(r2_val_score)\n",
        "\n",
        "        plt.figure(figsize=(15,10))\n",
        "        plt.plot(range(len(self.top_features)),r2_tr,marker='o',label='Train')\n",
        "        plt.plot(range(len(self.top_features)),r2_val,marker='o',label='Valid')\n",
        "        plt.xlabel(\"Number of Top Features\")\n",
        "        plt.ylabel(\"R^2\")\n",
        "        plt.title(\"R^2 on Top-K Features\")\n",
        "        plt.legend()\n",
        "        plt.show()\n",
        "\n",
        "        stats=pd.DataFrame({\n",
        "        \"TRAIN\":r2_tr,\n",
        "        \"VALID\":r2_val\n",
        "        })\n",
        "\n",
        "        stats.to_excel(path,index=False)\n",
        "\n",
        "\n",
        "    def one_factor_r2(self):\n",
        "        story = pd.DataFrame()\n",
        "\n",
        "        for feature in tqdm(self.X_train.columns):\n",
        "            if self.params is None:\n",
        "                model = cb.CatBoostRegressor(\n",
        "                    learning_rate = 0.303,\n",
        "                    depth = 3,\n",
        "                    l2_leaf_reg = 2.437,\n",
        "                    random_seed = 42,\n",
        "                    min_data_in_leaf = 30,\n",
        "                    one_hot_max_size = 40,\n",
        "                    colsample_bylevel = 0.079,\n",
        "                    loss_function = 'RMSE',\n",
        "                    task_type = 'CPU',\n",
        "                    iterations = 2000,\n",
        "                    use_best_model = True,\n",
        "                    verbose = False,\n",
        "                    thread_count = -1,\n",
        "                    early_stopping_rounds = 100,\n",
        "                    eval_metric = 'R2',\n",
        "                    boosting_type = 'Plain',\n",
        "                    bootstrap_type = 'MVS'\n",
        "                )\n",
        "                path = \"no_optuna_one_factor_r2.xlsx\"\n",
        "            else:\n",
        "                self.params[\"verbose\"] = False\n",
        "                self.params[\"iterations\"] = 500\n",
        "                path = \"optuna_one_factor_r2.xlsx\"\n",
        "                model = cb.CatBoostRegressor(**self.params)\n",
        "\n",
        "            if len(self.X_train[feature].unique()) > 1:\n",
        "                if feature in self.cat_features:\n",
        "                    train_pool = cb.Pool(data=self.X_train[[feature]], label=self.y_train, cat_features=[feature])\n",
        "                    val_pool = cb.Pool(data=self.X_val[[feature]], label=self.y_val, cat_features=[feature])\n",
        "                else:\n",
        "                    train_pool=cb.Pool(data=self.X_train[[feature]],label=self.y_train)\n",
        "                    val_pool=cb.Pool(data=self.X_val[[feature]],label=self.y_val)\n",
        "\n",
        "                model.fit(\n",
        "                    train_pool,\n",
        "                    eval_set=val_pool\n",
        "                )\n",
        "\n",
        "                y_train_pred=model.predict(self.X_train[[feature]])\n",
        "                y_val_pred=model.predict(self.X_val[[feature]])\n",
        "\n",
        "                r2_tr_score=r2_score(self.y_train,y_train_pred)\n",
        "                r2_val_score=r2_score(self.y_val,y_val_pred)\n",
        "\n",
        "                story=story.append(pd.DataFrame({\n",
        "                'features':[feature],\n",
        "                'train':[r2_tr_score],\n",
        "                'valid':[r2_val_score]\n",
        "                }),ignore_index=True)\n",
        "\n",
        "            else:\n",
        "                print(f\"Feature {feature} has only one unique value. Ignoring.\")\n",
        "\n",
        "        plt.figure(figsize=(10,7))\n",
        "        plt.bar(range(len(story['features'])),story['train'],align='center',label='Train')\n",
        "        plt.bar(range(len(story['features'])),story['valid'],align='edge',label='Valid')\n",
        "        plt.xlabel(\"Features\")\n",
        "        plt.ylabel(\"R^2\")\n",
        "        plt.title(\"One-Factor R^2\")\n",
        "        plt.xticks(range(len(story['features'])),story['features'],rotation=45)\n",
        "        plt.legend()\n",
        "        plt.tight_layout()\n",
        "        story.to_excel(path,index=False)"
      ],
      "metadata": {
        "id": "ZAc6ZLBIYi7i"
      },
      "execution_count": 8,
      "outputs": []
    },
    {
      "cell_type": "code",
      "source": [
        "df = process(df)"
      ],
      "metadata": {
        "id": "sEGch9ij42TV"
      },
      "execution_count": 45,
      "outputs": []
    },
    {
      "cell_type": "code",
      "source": [
        "df.columns"
      ],
      "metadata": {
        "id": "spUQ0fu3R_zC",
        "outputId": "6d3b89e2-b8f9-4c17-bff9-d53c4ff64e79",
        "colab": {
          "base_uri": "https://localhost:8080/"
        }
      },
      "execution_count": 46,
      "outputs": [
        {
          "output_type": "execute_result",
          "data": {
            "text/plain": [
              "Index(['id', 'actual_price', 'price', 'brand', 'model', 'generation',\n",
              "       'modification', 'equipment', 'body_type', 'color', 'year', 'mileage',\n",
              "       'owners_count', 'latitude', 'longitude', 'crashes', 'is_taxi',\n",
              "       'is_carsharing', 'description', 'years_in_use', 'mileage_per_year',\n",
              "       'avg_price_by_brand_model', 'year_category', 'has_crashes',\n",
              "       'description_length', 'sale_end_year', 'sale_end_month', 'sale_end_day',\n",
              "       'Engine', 'num_gen'],\n",
              "      dtype='object')"
            ]
          },
          "metadata": {},
          "execution_count": 46
        }
      ]
    },
    {
      "cell_type": "code",
      "source": [
        "test = process(test)"
      ],
      "metadata": {
        "id": "_FoDk39U5tsh"
      },
      "execution_count": 47,
      "outputs": []
    },
    {
      "cell_type": "code",
      "source": [
        "df_aggregated = df.groupby(['brand', 'model'], as_index=False).agg({'avg_price_by_brand_model': 'mean'})\n",
        "df_test = pd.merge(test, df_aggregated[['brand', 'model', 'avg_price_by_brand_model']], on=['brand', 'model'], how='left')\n"
      ],
      "metadata": {
        "id": "aP0_ji-mV_Cy"
      },
      "execution_count": 65,
      "outputs": []
    },
    {
      "cell_type": "code",
      "source": [
        "df_test.shape"
      ],
      "metadata": {
        "id": "yuqZems6WA1f",
        "outputId": "7aef5294-86c9-47f2-82df-1510b7ddd17c",
        "colab": {
          "base_uri": "https://localhost:8080/"
        }
      },
      "execution_count": 66,
      "outputs": [
        {
          "output_type": "execute_result",
          "data": {
            "text/plain": [
              "(1611, 28)"
            ]
          },
          "metadata": {},
          "execution_count": 66
        }
      ]
    },
    {
      "cell_type": "code",
      "source": [
        "df_test = pd.merge(test, df[['brand', 'model', 'avg_price_by_brand_model']], on=['brand', 'model'], how='left')"
      ],
      "metadata": {
        "id": "jbr_dNZNCLuQ"
      },
      "execution_count": 48,
      "outputs": []
    },
    {
      "cell_type": "code",
      "source": [
        "df_test.columns"
      ],
      "metadata": {
        "colab": {
          "base_uri": "https://localhost:8080/"
        },
        "id": "6zX5YAfwBwPV",
        "outputId": "64fdce78-89fd-4091-e58a-4b74995de115"
      },
      "execution_count": 15,
      "outputs": [
        {
          "output_type": "execute_result",
          "data": {
            "text/plain": [
              "Index(['id', 'brand', 'model', 'generation', 'modification', 'equipment',\n",
              "       'body_type', 'color', 'year', 'mileage', 'owners_count', 'latitude',\n",
              "       'longitude', 'crashes', 'is_taxi', 'is_carsharing', 'description',\n",
              "       'years_in_use', 'mileage_per_year', 'year_category', 'has_crashes',\n",
              "       'description_length', 'sale_end_year', 'sale_end_month', 'sale_end_day',\n",
              "       'Engine', 'num_gen', 'avg_price_by_brand_model'],\n",
              "      dtype='object')"
            ]
          },
          "metadata": {},
          "execution_count": 15
        }
      ]
    },
    {
      "cell_type": "code",
      "source": [
        "test.columns"
      ],
      "metadata": {
        "colab": {
          "base_uri": "https://localhost:8080/"
        },
        "id": "FJqqux8yBwTL",
        "outputId": "0bb468e8-649a-4ef0-926f-91f57336dec6"
      },
      "execution_count": 26,
      "outputs": [
        {
          "output_type": "execute_result",
          "data": {
            "text/plain": [
              "Index(['id', 'sale_end_date', 'brand', 'model', 'generation', 'modification',\n",
              "       'equipment', 'body_type', 'color', 'year', 'mileage', 'owners_count',\n",
              "       'latitude', 'longitude', 'crashes', 'is_taxi', 'is_carsharing',\n",
              "       'description'],\n",
              "      dtype='object')"
            ]
          },
          "metadata": {},
          "execution_count": 26
        }
      ]
    },
    {
      "cell_type": "code",
      "source": [
        "df_x = df.drop(['actual_price', 'price', 'id'], axis=1)\n",
        "df_y = df['actual_price']"
      ],
      "metadata": {
        "id": "qLXInrTXa5US"
      },
      "execution_count": 49,
      "outputs": []
    },
    {
      "cell_type": "code",
      "source": [
        "X_train, X_val, y_train, y_val = train_test_split(df_x, df_y, test_size=0.1, random_state=42)"
      ],
      "metadata": {
        "id": "ugNWjAqaZoq2"
      },
      "execution_count": 50,
      "outputs": []
    },
    {
      "cell_type": "code",
      "source": [
        "boosting = Boosting(X_train, X_val, y_train, y_val, cat_features = ['num_gen', 'brand','model','generation','modification','equipment','body_type','color', 'description','year_category'])"
      ],
      "metadata": {
        "colab": {
          "base_uri": "https://localhost:8080/"
        },
        "id": "7UHmsOZNZQ1x",
        "outputId": "bf25568a-0783-4bc9-e3b5-cc477f5d873e"
      },
      "execution_count": 51,
      "outputs": [
        {
          "output_type": "stream",
          "name": "stdout",
          "text": [
            "Init...\n",
            "Init Finished!\n"
          ]
        }
      ]
    },
    {
      "cell_type": "code",
      "source": [
        "boosting.one_factor_r2()"
      ],
      "metadata": {
        "colab": {
          "base_uri": "https://localhost:8080/",
          "height": 487,
          "referenced_widgets": [
            "78e16e4537f24033ac6ede8b9094b2de",
            "c2649963c9a24d91adc611156b7c2e61",
            "61e239e007e44546b0b0a8c689f84497",
            "6bbabb1d44844807a590599b1829952f",
            "734ceefba8a440809660be18201e82a6",
            "c0942666bdd847f49b0800ee356322c5",
            "12485c1d2ce7434e8f41346af0c6b31e",
            "c991a888c0f84c95a535a2a49f640030",
            "30d81b3b89004189a6ae9f27f808c3b6",
            "27a65cc72eef496098de77fb7cf7cd73",
            "6fdcbd707e5c494e83312bd32c36912b"
          ]
        },
        "id": "TnLqlw2csHGx",
        "outputId": "3fc4802e-f48b-4f9b-d552-66fa2856610f"
      },
      "execution_count": 74,
      "outputs": [
        {
          "output_type": "display_data",
          "data": {
            "text/plain": [
              "  0%|          | 0/28 [00:00<?, ?it/s]"
            ],
            "application/vnd.jupyter.widget-view+json": {
              "version_major": 2,
              "version_minor": 0,
              "model_id": "78e16e4537f24033ac6ede8b9094b2de"
            }
          },
          "metadata": {}
        },
        {
          "output_type": "display_data",
          "data": {
            "text/plain": [
              "<Figure size 1000x700 with 1 Axes>"
            ],
            "image/png": "[encoded data removed]"
          },
          "metadata": {}
        }
      ]
    },
    {
      "cell_type": "code",
      "source": [
        "boosting.train()"
      ],
      "metadata": {
        "colab": {
          "base_uri": "https://localhost:8080/"
        },
        "id": "YSaroruK6n9M",
        "outputId": "5b7904a7-817a-45c0-b596-8b2190bc27ab"
      },
      "execution_count": 52,
      "outputs": [
        {
          "output_type": "stream",
          "name": "stdout",
          "text": [
            "0:\tlearn: 0.2166246\ttest: 0.2491791\tbest: 0.2491791 (0)\ttotal: 4.25ms\tremaining: 4.24s\n",
            "100:\tlearn: 0.9352313\ttest: 0.9296120\tbest: 0.9296120 (100)\ttotal: 230ms\tremaining: 2.05s\n",
            "200:\tlearn: 0.9565405\ttest: 0.9505039\tbest: 0.9505039 (200)\ttotal: 426ms\tremaining: 1.69s\n",
            "300:\tlearn: 0.9663223\ttest: 0.9594656\tbest: 0.9594656 (300)\ttotal: 621ms\tremaining: 1.44s\n",
            "400:\tlearn: 0.9715019\ttest: 0.9640493\tbest: 0.9641104 (393)\ttotal: 827ms\tremaining: 1.24s\n",
            "500:\tlearn: 0.9747102\ttest: 0.9672690\tbest: 0.9672894 (499)\ttotal: 1.02s\tremaining: 1.01s\n",
            "600:\tlearn: 0.9765202\ttest: 0.9684858\tbest: 0.9687041 (586)\ttotal: 1.24s\tremaining: 824ms\n",
            "700:\tlearn: 0.9781466\ttest: 0.9697876\tbest: 0.9698464 (697)\ttotal: 1.43s\tremaining: 608ms\n",
            "800:\tlearn: 0.9793586\ttest: 0.9706220\tbest: 0.9706220 (800)\ttotal: 1.63s\tremaining: 406ms\n",
            "900:\tlearn: 0.9804976\ttest: 0.9715813\tbest: 0.9715954 (898)\ttotal: 1.82s\tremaining: 200ms\n",
            "999:\tlearn: 0.9814745\ttest: 0.9717898\tbest: 0.9718349 (995)\ttotal: 2.02s\tremaining: 0us\n",
            "\n",
            "bestTest = 0.9718348748\n",
            "bestIteration = 995\n",
            "\n",
            "Shrink model to first 996 iterations.\n",
            "R^2 на обучающей выборке: 0.9816959752388368\n",
            "R^2 на валидационной выборке: 0.9718348747902088\n"
          ]
        }
      ]
    },
    {
      "cell_type": "code",
      "source": [
        "boosting.show_feats_imp()"
      ],
      "metadata": {
        "colab": {
          "base_uri": "https://localhost:8080/",
          "height": 501
        },
        "id": "_M-OOWPp6rnX",
        "outputId": "1e6fb869-214a-41b0-e057-6313c4183926"
      },
      "execution_count": 20,
      "outputs": [
        {
          "output_type": "display_data",
          "data": {
            "text/plain": [
              "<Figure size 1500x1000 with 1 Axes>"
            ],
            "image/png": "[encoded data removed]"
          },
          "metadata": {}
        },
        {
          "output_type": "stream",
          "name": "stdout",
          "text": [
            "['avg_price_by_brand_model' 'year' 'model' 'years_in_use' 'generation'\n",
            " 'num_gen' 'Engine' 'brand' 'modification' 'body_type' 'year_category'\n",
            " 'mileage' 'equipment' 'description_length' 'sale_end_month'\n",
            " 'mileage_per_year' 'crashes' 'longitude' 'color' 'owners_count'\n",
            " 'description' 'latitude' 'is_taxi' 'sale_end_day' 'has_crashes'\n",
            " 'is_carsharing' 'sale_end_year']\n"
          ]
        }
      ]
    },
    {
      "cell_type": "code",
      "source": [
        "boosting.top_feats_selection()"
      ],
      "metadata": {
        "colab": {
          "base_uri": "https://localhost:8080/",
          "height": 484,
          "referenced_widgets": [
            "eb2c83e1f5bb43db936df7a3a4b1fcf6",
            "57b6f70832ac4dcc9d04e54f5e60fe19",
            "2d37e3c3d0334d9d976f6de0da1abce4",
            "11aa7f691d5b4cc48ece12f055bae593",
            "720d674e459c4deeae8bf8dcae0e1146",
            "c0b5a73e0108436ea6598b68990e01fd",
            "58dcc9605e2542c9acf278729b35df3c",
            "04b7ce881d8e48aabe2b8875c2032861",
            "142efe4f04f047098af0fe9c0d23833c",
            "4f73d72477b743ddabe6c50622f9759b",
            "8239492191a14440ab47b189ae4d3747"
          ]
        },
        "id": "JXK13L7D6tE-",
        "outputId": "9a5c45be-66cd-42ea-9d07-deb8340f6db6"
      },
      "execution_count": 77,
      "outputs": [
        {
          "output_type": "display_data",
          "data": {
            "text/plain": [
              "  0%|          | 0/28 [00:00<?, ?it/s]"
            ],
            "application/vnd.jupyter.widget-view+json": {
              "version_major": 2,
              "version_minor": 0,
              "model_id": "eb2c83e1f5bb43db936df7a3a4b1fcf6"
            }
          },
          "metadata": {}
        },
        {
          "output_type": "display_data",
          "data": {
            "text/plain": [
              "<Figure size 1500x1000 with 1 Axes>"
            ],
            "image/png": "[encoded data removed]"
          },
          "metadata": {}
        }
      ]
    },
    {
      "cell_type": "code",
      "source": [
        "test = pd.read_csv('/content/drive/MyDrive/val_public.csv')"
      ],
      "metadata": {
        "id": "nqPIwW2O7qT2"
      },
      "execution_count": 44,
      "outputs": []
    },
    {
      "cell_type": "code",
      "source": [
        "df_test."
      ],
      "metadata": {
        "colab": {
          "base_uri": "https://localhost:8080/"
        },
        "id": "fJPsmTHP828E",
        "outputId": "48a17b3c-c7bc-4ac4-9212-1c15a492e15a"
      },
      "execution_count": 23,
      "outputs": [
        {
          "output_type": "execute_result",
          "data": {
            "text/plain": [
              "Index(['brand', 'model', 'generation', 'modification', 'equipment',\n",
              "       'body_type', 'color', 'year', 'mileage', 'owners_count', 'latitude',\n",
              "       'longitude', 'crashes', 'is_taxi', 'is_carsharing', 'description',\n",
              "       'years_in_use', 'mileage_per_year', 'year_category', 'has_crashes',\n",
              "       'description_length', 'sale_end_year', 'sale_end_month', 'sale_end_day',\n",
              "       'Engine', 'num_gen', 'avg_price_by_brand_model'],\n",
              "      dtype='object')"
            ]
          },
          "metadata": {},
          "execution_count": 23
        }
      ]
    },
    {
      "cell_type": "code",
      "source": [
        "df_test = df_test.drop(['id'], axis=1)"
      ],
      "metadata": {
        "id": "5J1Oahs_Q3fQ"
      },
      "execution_count": 67,
      "outputs": []
    },
    {
      "cell_type": "code",
      "source": [
        "df_test = df_test[df_x.columns]"
      ],
      "metadata": {
        "id": "-oijeNQoUvlx"
      },
      "execution_count": 68,
      "outputs": []
    },
    {
      "cell_type": "code",
      "source": [
        "df_test.shape"
      ],
      "metadata": {
        "id": "2h5mGGySVMsP",
        "outputId": "5da9f866-41ea-4781-878a-cf845754c4b2",
        "colab": {
          "base_uri": "https://localhost:8080/"
        }
      },
      "execution_count": 69,
      "outputs": [
        {
          "output_type": "execute_result",
          "data": {
            "text/plain": [
              "(1611, 27)"
            ]
          },
          "metadata": {},
          "execution_count": 69
        }
      ]
    },
    {
      "cell_type": "code",
      "source": [
        "test.shape"
      ],
      "metadata": {
        "id": "uqaS8OAWVP26",
        "outputId": "6282960e-61b4-4066-e5db-44314a37e7a8",
        "colab": {
          "base_uri": "https://localhost:8080/"
        }
      },
      "execution_count": 64,
      "outputs": [
        {
          "output_type": "execute_result",
          "data": {
            "text/plain": [
              "(1611, 27)"
            ]
          },
          "metadata": {},
          "execution_count": 64
        }
      ]
    },
    {
      "cell_type": "code",
      "source": [
        "preds = boosting.model.predict(df_test)"
      ],
      "metadata": {
        "id": "dJ_l9hbr83Wv"
      },
      "execution_count": 73,
      "outputs": []
    },
    {
      "cell_type": "code",
      "source": [
        "preds.shape"
      ],
      "metadata": {
        "id": "JzIVWO-2VJsS",
        "outputId": "31da1081-a72e-4b7f-f7a0-2706cd732197",
        "colab": {
          "base_uri": "https://localhost:8080/"
        }
      },
      "execution_count": 74,
      "outputs": [
        {
          "output_type": "execute_result",
          "data": {
            "text/plain": [
              "(1611,)"
            ]
          },
          "metadata": {},
          "execution_count": 74
        }
      ]
    },
    {
      "cell_type": "code",
      "source": [
        "ans = pd.Series(preds)"
      ],
      "metadata": {
        "id": "5tt-oftIWeww"
      },
      "execution_count": 80,
      "outputs": []
    },
    {
      "cell_type": "code",
      "source": [
        "ans.to_csv('/content/solution_final.csv', header=False, index=False)"
      ],
      "metadata": {
        "id": "ls8mWJqJWjrP"
      },
      "execution_count": 81,
      "outputs": []
    },
    {
      "cell_type": "code",
      "source": [
        "pd.Series(preds).to_csv('/content/solution1.csv', header=False, index=False)"
      ],
      "metadata": {
        "id": "ZiGhdGQQU48h"
      },
      "execution_count": 78,
      "outputs": []
    },
    {
      "cell_type": "markdown",
      "source": [
        "# Новый раздел"
      ],
      "metadata": {
        "id": "Fs8jtfnGWq79"
      }
    },
    {
      "cell_type": "code",
      "source": [
        "df_x.dtypes"
      ],
      "metadata": {
        "colab": {
          "base_uri": "https://localhost:8080/"
        },
        "id": "Nq-qIx3zFYbs",
        "outputId": "fdfbf648-0aa2-4fc9-8ec4-885a89f4ded1"
      },
      "execution_count": 55,
      "outputs": [
        {
          "output_type": "execute_result",
          "data": {
            "text/plain": [
              "brand                        object\n",
              "model                        object\n",
              "generation                   object\n",
              "modification                 object\n",
              "equipment                    object\n",
              "body_type                    object\n",
              "color                        object\n",
              "year                        float64\n",
              "mileage                       int64\n",
              "owners_count                  int64\n",
              "latitude                    float64\n",
              "longitude                   float64\n",
              "crashes                     float64\n",
              "is_taxi                       int64\n",
              "is_carsharing                 int64\n",
              "description                  object\n",
              "years_in_use                float64\n",
              "mileage_per_year            float64\n",
              "avg_price_by_brand_model    float64\n",
              "year_category                object\n",
              "has_crashes                   int64\n",
              "description_length            int64\n",
              "sale_end_year                 int64\n",
              "sale_end_month                int64\n",
              "sale_end_day                  int64\n",
              "Engine                      float64\n",
              "num_gen                      object\n",
              "dtype: object"
            ]
          },
          "metadata": {},
          "execution_count": 55
        }
      ]
    },
    {
      "cell_type": "code",
      "source": [
        "df_test.dtypes"
      ],
      "metadata": {
        "id": "W-8-3dHJMmh9",
        "outputId": "15b18dbf-2194-4e8d-9e0f-3a06e0983e6a",
        "colab": {
          "base_uri": "https://localhost:8080/"
        }
      },
      "execution_count": 56,
      "outputs": [
        {
          "output_type": "execute_result",
          "data": {
            "text/plain": [
              "brand                        object\n",
              "model                        object\n",
              "generation                   object\n",
              "modification                 object\n",
              "equipment                    object\n",
              "body_type                    object\n",
              "color                        object\n",
              "year                        float64\n",
              "mileage                       int64\n",
              "owners_count                  int64\n",
              "latitude                    float64\n",
              "longitude                   float64\n",
              "crashes                     float64\n",
              "is_taxi                       int64\n",
              "is_carsharing                 int64\n",
              "description                  object\n",
              "years_in_use                float64\n",
              "mileage_per_year            float64\n",
              "year_category                object\n",
              "has_crashes                   int64\n",
              "description_length            int64\n",
              "sale_end_year                 int64\n",
              "sale_end_month                int64\n",
              "sale_end_day                  int64\n",
              "Engine                      float64\n",
              "num_gen                      object\n",
              "avg_price_by_brand_model    float64\n",
              "dtype: object"
            ]
          },
          "metadata": {},
          "execution_count": 56
        }
      ]
    },
    {
      "cell_type": "code",
      "source": [
        "df_test.year_category"
      ],
      "metadata": {
        "id": "Jupf8lZxUiYr",
        "outputId": "8087552a-4bda-42d6-c7a9-72d79d4c2833",
        "colab": {
          "base_uri": "https://localhost:8080/"
        }
      },
      "execution_count": 57,
      "outputs": [
        {
          "output_type": "execute_result",
          "data": {
            "text/plain": [
              "0          старые\n",
              "1          старые\n",
              "2          старые\n",
              "3          старые\n",
              "4          старые\n",
              "           ...   \n",
              "311195    средние\n",
              "311196    средние\n",
              "311197    средние\n",
              "311198    средние\n",
              "311199    средние\n",
              "Name: year_category, Length: 311200, dtype: object"
            ]
          },
          "metadata": {},
          "execution_count": 57
        }
      ]
    },
    {
      "cell_type": "code",
      "source": [
        "for j in ['brand','model','generation','modification','equipment','body_type','color','year_category', 'num_gen']:\n",
        "  for i in test[j].unique():\n",
        "    if i not in df_x[j].unique():\n",
        "      print(j, i)"
      ],
      "metadata": {
        "id": "34IthWl1MucN"
      },
      "execution_count": 94,
      "outputs": []
    },
    {
      "cell_type": "code",
      "source": [
        "test.columns"
      ],
      "metadata": {
        "id": "X0h5l5jmM7xu",
        "outputId": "a283f06e-b410-4e9e-cbe0-4f708b7ab784",
        "colab": {
          "base_uri": "https://localhost:8080/"
        }
      },
      "execution_count": 128,
      "outputs": [
        {
          "output_type": "execute_result",
          "data": {
            "text/plain": [
              "Index(['id', 'brand', 'model', 'generation', 'modification', 'equipment',\n",
              "       'body_type', 'color', 'year', 'mileage', 'owners_count', 'latitude',\n",
              "       'longitude', 'crashes', 'is_taxi', 'is_carsharing', 'description',\n",
              "       'years_in_use', 'mileage_per_year', 'year_category', 'has_crashes',\n",
              "       'description_length', 'sale_end_year', 'sale_end_month', 'sale_end_day',\n",
              "       'Engine', 'num_gen'],\n",
              "      dtype='object')"
            ]
          },
          "metadata": {},
          "execution_count": 128
        }
      ]
    },
    {
      "cell_type": "code",
      "source": [
        "df_x.columns"
      ],
      "metadata": {
        "id": "pAPXpDjLQhRM",
        "outputId": "3b688ba8-7c66-435c-89c7-9de904ec2f87",
        "colab": {
          "base_uri": "https://localhost:8080/"
        }
      },
      "execution_count": 129,
      "outputs": [
        {
          "output_type": "execute_result",
          "data": {
            "text/plain": [
              "Index(['brand', 'model', 'generation', 'modification', 'equipment',\n",
              "       'body_type', 'color', 'year', 'mileage', 'owners_count', 'latitude',\n",
              "       'longitude', 'crashes', 'is_taxi', 'is_carsharing', 'description',\n",
              "       'years_in_use', 'mileage_per_year', 'avg_price_by_brand_model',\n",
              "       'year_category', 'has_crashes', 'description_length', 'sale_end_year',\n",
              "       'sale_end_month', 'sale_end_day', 'Engine', 'num_gen'],\n",
              "      dtype='object')"
            ]
          },
          "metadata": {},
          "execution_count": 129
        }
      ]
    },
    {
      "cell_type": "code",
      "source": [],
      "metadata": {
        "id": "Fmi-IloeQn1S"
      },
      "execution_count": null,
      "outputs": []
    }
  ]
}